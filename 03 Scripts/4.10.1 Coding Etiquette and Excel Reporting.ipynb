{
 "cells": [
  {
   "cell_type": "markdown",
   "id": "f2bc94ba-335a-4cc5-a077-a6e83d357f8f",
   "metadata": {},
   "source": [
    "# 4.10.1 Coding Ettiquette and Excel Reporting"
   ]
  },
  {
   "cell_type": "markdown",
   "id": "8508b072-d76e-47e9-b39b-3000abd047e0",
   "metadata": {},
   "source": [
    "## This script contains the following points:\n",
    "\n",
    "### 01. Importing Libraries\n",
    "### 02. Creating Dataframes\n",
    "### 03. Task 2: Security Implications\n",
    "### 04. Task 3: Creating Region Column\n",
    "### 05. Task 4: Low-activity Exclusion\n",
    "### 06. Task 5: Customer Profiling"
   ]
  },
  {
   "cell_type": "markdown",
   "id": "009c630f-962d-4045-9d7b-0fc1285cddd6",
   "metadata": {},
   "source": [
    "## 01. Importing Libraries"
   ]
  },
  {
   "cell_type": "code",
   "execution_count": 1,
   "id": "c9f82aaa-ef72-4620-8c07-5c71d1e8d9b4",
   "metadata": {},
   "outputs": [],
   "source": [
    "# Importing libraries\n",
    "import pandas as pd\n",
    "import numpy as np\n",
    "import os\n",
    "import matplotlib.pyplot as plt\n",
    "import seaborn as sns\n",
    "import scipy"
   ]
  },
  {
   "cell_type": "markdown",
   "id": "60bfba48-7dbe-4de4-bf08-473c5cd1b84f",
   "metadata": {},
   "source": [
    "## 02. Creating Dataframes"
   ]
  },
  {
   "cell_type": "code",
   "execution_count": 2,
   "id": "79a4ecb7-0981-4746-a651-38b31703b9e3",
   "metadata": {},
   "outputs": [],
   "source": [
    "# Creating path variable for loading in files\n",
    "path = r'C:\\Users\\widne\\Documents\\CareerFoundry Exercises\\Data_Immersion\\Achievement 4\\03-2024 Instacart Basket Analysis'\n",
    "\n",
    "# Creating dataframe containing all data\n",
    "all = pd.read_pickle(os.path.join(path, '02 Data', 'Prepared Data', 'orders_products_all.pkl'))"
   ]
  },
  {
   "cell_type": "code",
   "execution_count": 3,
   "id": "d2dbd0cb-a3ec-4a8d-b421-e390e2c142de",
   "metadata": {},
   "outputs": [
    {
     "data": {
      "text/html": [
       "<div>\n",
       "<style scoped>\n",
       "    .dataframe tbody tr th:only-of-type {\n",
       "        vertical-align: middle;\n",
       "    }\n",
       "\n",
       "    .dataframe tbody tr th {\n",
       "        vertical-align: top;\n",
       "    }\n",
       "\n",
       "    .dataframe thead th {\n",
       "        text-align: right;\n",
       "    }\n",
       "</style>\n",
       "<table border=\"1\" class=\"dataframe\">\n",
       "  <thead>\n",
       "    <tr style=\"text-align: right;\">\n",
       "      <th></th>\n",
       "      <th>order_id</th>\n",
       "      <th>user_id</th>\n",
       "      <th>order_number</th>\n",
       "      <th>order_day_of_week</th>\n",
       "      <th>order_hour_of_day</th>\n",
       "      <th>days_since_prior_order</th>\n",
       "      <th>first_order</th>\n",
       "      <th>product_id</th>\n",
       "      <th>add_to_cart_order</th>\n",
       "      <th>reordered</th>\n",
       "      <th>...</th>\n",
       "      <th>average_spend</th>\n",
       "      <th>spender_flag</th>\n",
       "      <th>median_frequency</th>\n",
       "      <th>frequency_flag</th>\n",
       "      <th>state</th>\n",
       "      <th>age</th>\n",
       "      <th>number_of_dependents</th>\n",
       "      <th>fam_status</th>\n",
       "      <th>income</th>\n",
       "      <th>_merge</th>\n",
       "    </tr>\n",
       "  </thead>\n",
       "  <tbody>\n",
       "    <tr>\n",
       "      <th>0</th>\n",
       "      <td>2539329</td>\n",
       "      <td>1</td>\n",
       "      <td>1</td>\n",
       "      <td>2</td>\n",
       "      <td>8</td>\n",
       "      <td>NaN</td>\n",
       "      <td>True</td>\n",
       "      <td>196</td>\n",
       "      <td>1</td>\n",
       "      <td>0</td>\n",
       "      <td>...</td>\n",
       "      <td>6.367797</td>\n",
       "      <td>Low spender</td>\n",
       "      <td>20.5</td>\n",
       "      <td>Non-frequent customer</td>\n",
       "      <td>Alabama</td>\n",
       "      <td>31</td>\n",
       "      <td>3</td>\n",
       "      <td>married</td>\n",
       "      <td>40423</td>\n",
       "      <td>both</td>\n",
       "    </tr>\n",
       "    <tr>\n",
       "      <th>1</th>\n",
       "      <td>2398795</td>\n",
       "      <td>1</td>\n",
       "      <td>2</td>\n",
       "      <td>3</td>\n",
       "      <td>7</td>\n",
       "      <td>15.0</td>\n",
       "      <td>False</td>\n",
       "      <td>196</td>\n",
       "      <td>1</td>\n",
       "      <td>1</td>\n",
       "      <td>...</td>\n",
       "      <td>6.367797</td>\n",
       "      <td>Low spender</td>\n",
       "      <td>20.5</td>\n",
       "      <td>Non-frequent customer</td>\n",
       "      <td>Alabama</td>\n",
       "      <td>31</td>\n",
       "      <td>3</td>\n",
       "      <td>married</td>\n",
       "      <td>40423</td>\n",
       "      <td>both</td>\n",
       "    </tr>\n",
       "    <tr>\n",
       "      <th>2</th>\n",
       "      <td>473747</td>\n",
       "      <td>1</td>\n",
       "      <td>3</td>\n",
       "      <td>3</td>\n",
       "      <td>12</td>\n",
       "      <td>21.0</td>\n",
       "      <td>False</td>\n",
       "      <td>196</td>\n",
       "      <td>1</td>\n",
       "      <td>1</td>\n",
       "      <td>...</td>\n",
       "      <td>6.367797</td>\n",
       "      <td>Low spender</td>\n",
       "      <td>20.5</td>\n",
       "      <td>Non-frequent customer</td>\n",
       "      <td>Alabama</td>\n",
       "      <td>31</td>\n",
       "      <td>3</td>\n",
       "      <td>married</td>\n",
       "      <td>40423</td>\n",
       "      <td>both</td>\n",
       "    </tr>\n",
       "    <tr>\n",
       "      <th>3</th>\n",
       "      <td>2254736</td>\n",
       "      <td>1</td>\n",
       "      <td>4</td>\n",
       "      <td>4</td>\n",
       "      <td>7</td>\n",
       "      <td>29.0</td>\n",
       "      <td>False</td>\n",
       "      <td>196</td>\n",
       "      <td>1</td>\n",
       "      <td>1</td>\n",
       "      <td>...</td>\n",
       "      <td>6.367797</td>\n",
       "      <td>Low spender</td>\n",
       "      <td>20.5</td>\n",
       "      <td>Non-frequent customer</td>\n",
       "      <td>Alabama</td>\n",
       "      <td>31</td>\n",
       "      <td>3</td>\n",
       "      <td>married</td>\n",
       "      <td>40423</td>\n",
       "      <td>both</td>\n",
       "    </tr>\n",
       "    <tr>\n",
       "      <th>4</th>\n",
       "      <td>431534</td>\n",
       "      <td>1</td>\n",
       "      <td>5</td>\n",
       "      <td>4</td>\n",
       "      <td>15</td>\n",
       "      <td>28.0</td>\n",
       "      <td>False</td>\n",
       "      <td>196</td>\n",
       "      <td>1</td>\n",
       "      <td>1</td>\n",
       "      <td>...</td>\n",
       "      <td>6.367797</td>\n",
       "      <td>Low spender</td>\n",
       "      <td>20.5</td>\n",
       "      <td>Non-frequent customer</td>\n",
       "      <td>Alabama</td>\n",
       "      <td>31</td>\n",
       "      <td>3</td>\n",
       "      <td>married</td>\n",
       "      <td>40423</td>\n",
       "      <td>both</td>\n",
       "    </tr>\n",
       "  </tbody>\n",
       "</table>\n",
       "<p>5 rows × 30 columns</p>\n",
       "</div>"
      ],
      "text/plain": [
       "   order_id  user_id  order_number  order_day_of_week  order_hour_of_day  \\\n",
       "0   2539329        1             1                  2                  8   \n",
       "1   2398795        1             2                  3                  7   \n",
       "2    473747        1             3                  3                 12   \n",
       "3   2254736        1             4                  4                  7   \n",
       "4    431534        1             5                  4                 15   \n",
       "\n",
       "   days_since_prior_order  first_order  product_id  add_to_cart_order  \\\n",
       "0                     NaN         True         196                  1   \n",
       "1                    15.0        False         196                  1   \n",
       "2                    21.0        False         196                  1   \n",
       "3                    29.0        False         196                  1   \n",
       "4                    28.0        False         196                  1   \n",
       "\n",
       "   reordered  ... average_spend  spender_flag  median_frequency  \\\n",
       "0          0  ...      6.367797   Low spender              20.5   \n",
       "1          1  ...      6.367797   Low spender              20.5   \n",
       "2          1  ...      6.367797   Low spender              20.5   \n",
       "3          1  ...      6.367797   Low spender              20.5   \n",
       "4          1  ...      6.367797   Low spender              20.5   \n",
       "\n",
       "          frequency_flag    state age number_of_dependents fam_status  income  \\\n",
       "0  Non-frequent customer  Alabama  31                    3    married   40423   \n",
       "1  Non-frequent customer  Alabama  31                    3    married   40423   \n",
       "2  Non-frequent customer  Alabama  31                    3    married   40423   \n",
       "3  Non-frequent customer  Alabama  31                    3    married   40423   \n",
       "4  Non-frequent customer  Alabama  31                    3    married   40423   \n",
       "\n",
       "  _merge  \n",
       "0   both  \n",
       "1   both  \n",
       "2   both  \n",
       "3   both  \n",
       "4   both  \n",
       "\n",
       "[5 rows x 30 columns]"
      ]
     },
     "execution_count": 3,
     "metadata": {},
     "output_type": "execute_result"
    }
   ],
   "source": [
    "# Checking dataframe\n",
    "all.head()"
   ]
  },
  {
   "cell_type": "markdown",
   "id": "b2f5c136-0509-4070-a8de-5f6cab55c1c2",
   "metadata": {},
   "source": [
    "## 03. Task 2: Security Implications"
   ]
  },
  {
   "cell_type": "markdown",
   "id": "cfa5f4c0-1a5f-4574-b2c4-52b79008ccdb",
   "metadata": {},
   "source": [
    "The original customers data had the first and last names of customers which is personally identifiable information (PII). In a working environment, I would consult with senior members or someone who works in data security for guidance on how to proceed with the data. For this specific exercise, I dropped the first and last name columns, because they are not necessary for analysis."
   ]
  },
  {
   "cell_type": "markdown",
   "id": "269875ef-7b14-4934-a33d-84d079bb381c",
   "metadata": {},
   "source": [
    "## 04. Task 3: Creating Region Column"
   ]
  },
  {
   "cell_type": "code",
   "execution_count": 6,
   "id": "57c21d4a-9ff4-42ab-955d-7dcf36c0b137",
   "metadata": {},
   "outputs": [],
   "source": [
    "# Creating Northeast value for region variable\n",
    "all.loc[all['state'].isin(['Maine', 'New Hampshire', 'Vermont', 'Massachusetts', 'Rhode Island', 'Connecticut',\n",
    "                           'New York', 'Pennsylvania', 'New Jersey']), 'region'] = 'Northeast'"
   ]
  },
  {
   "cell_type": "code",
   "execution_count": 7,
   "id": "1b5abe06-3fe5-436d-bfcb-783f6f6c3eb6",
   "metadata": {},
   "outputs": [],
   "source": [
    "# Creating Midwest value for region variable\n",
    "all.loc[all['state'].isin(['Wisconsin', 'Michigan', 'Illinois', 'Indiana', 'Ohio', 'North Dakota', 'South Dakota',\n",
    "                           'Nebraska', 'Kansas', 'Minnesota', 'Iowa', 'Missouri']), 'region'] = 'Midwest'"
   ]
  },
  {
   "cell_type": "code",
   "execution_count": 8,
   "id": "a2fa8c20-6b99-4199-a7c9-ef08211c114b",
   "metadata": {},
   "outputs": [],
   "source": [
    "# Creating South value for region variable\n",
    "all.loc[all['state'].isin(['Delaware', 'Maryland', 'District of Columbia', 'Virginia', 'West Virginia', 'North Carolina',\n",
    "                           'South Carolina', 'Georgia', 'Florida', 'Kentucky', 'Tennessee', 'Mississippi', 'Alabama',\n",
    "                           'Oklahoma', 'Texas', 'Arkansas', 'Louisiana']), 'region'] = 'South'"
   ]
  },
  {
   "cell_type": "code",
   "execution_count": 9,
   "id": "97e586eb-70ee-40df-bcb0-8e998797534e",
   "metadata": {},
   "outputs": [],
   "source": [
    "# Creating West value for region variable\n",
    "all.loc[all['state'].isin(['Idaho', 'Montana', 'Wyoming', 'Nevada', 'Utah', 'Colorado', 'Arizona', 'New Mexico',\n",
    "                           'Alaska', 'Washington', 'Oregon', 'California', 'Hawaii']), 'region'] = 'West'"
   ]
  },
  {
   "cell_type": "code",
   "execution_count": 10,
   "id": "1e47b0dd-6106-4bd3-9a1c-09ba7857df7f",
   "metadata": {},
   "outputs": [
    {
     "data": {
      "text/plain": [
       "region\n",
       "South        10791885\n",
       "West          8292913\n",
       "Midwest       7597325\n",
       "Northeast     5722736\n",
       "Name: count, dtype: int64"
      ]
     },
     "execution_count": 10,
     "metadata": {},
     "output_type": "execute_result"
    }
   ],
   "source": [
    "# Checking values of region column\n",
    "all['region'].value_counts(dropna = False)"
   ]
  },
  {
   "cell_type": "code",
   "execution_count": 11,
   "id": "02cbe0c4-569c-4760-8531-de88fde88b4a",
   "metadata": {},
   "outputs": [],
   "source": [
    "# Creating crosstab of region and spender flag\n",
    "crosstab = pd.crosstab(all['region'], all['spender_flag'], dropna = False)"
   ]
  },
  {
   "cell_type": "code",
   "execution_count": 12,
   "id": "40e012db-fa77-4c84-ba6b-20386ebfaa81",
   "metadata": {},
   "outputs": [],
   "source": [
    "crosstab.to_clipboard()"
   ]
  },
  {
   "cell_type": "markdown",
   "id": "7b6b4d80-bdab-45cd-9673-4d21def7d70f",
   "metadata": {},
   "source": [
    "## 05. Task 4: Low-activity Exclusion"
   ]
  },
  {
   "cell_type": "code",
   "execution_count": 13,
   "id": "6eaccd03-d06b-44d5-af29-b3c44a06e9bc",
   "metadata": {},
   "outputs": [],
   "source": [
    "# Creating low_activity flag\n",
    "all.loc[all['max_order'] >= 5, 'low_activity'] = 'no'"
   ]
  },
  {
   "cell_type": "code",
   "execution_count": 14,
   "id": "7bc20122-a458-4856-b3dc-0d4a6daf651f",
   "metadata": {},
   "outputs": [],
   "source": [
    "all.loc[all['max_order'] < 5, 'low_activity'] = 'yes'"
   ]
  },
  {
   "cell_type": "code",
   "execution_count": 15,
   "id": "0df12fe9-7851-4a8e-9d0a-4a0a299c9095",
   "metadata": {},
   "outputs": [
    {
     "data": {
      "text/plain": [
       "low_activity\n",
       "no     30964564\n",
       "yes     1440295\n",
       "Name: count, dtype: int64"
      ]
     },
     "execution_count": 15,
     "metadata": {},
     "output_type": "execute_result"
    }
   ],
   "source": [
    "# Checking values of low_activity flag\n",
    "all['low_activity'].value_counts(dropna = False)"
   ]
  },
  {
   "cell_type": "code",
   "execution_count": 16,
   "id": "b3827a2c-eed3-4615-8bf6-eca046c12986",
   "metadata": {},
   "outputs": [],
   "source": [
    "# Creating all_excluded dataframe that excludes all low activity customers\n",
    "all_excluded = all[all['low_activity'] == 'no']"
   ]
  },
  {
   "cell_type": "code",
   "execution_count": 17,
   "id": "4c73d4e0-4baf-4d17-86bf-28b5e799dd0e",
   "metadata": {},
   "outputs": [
    {
     "data": {
      "text/html": [
       "<div>\n",
       "<style scoped>\n",
       "    .dataframe tbody tr th:only-of-type {\n",
       "        vertical-align: middle;\n",
       "    }\n",
       "\n",
       "    .dataframe tbody tr th {\n",
       "        vertical-align: top;\n",
       "    }\n",
       "\n",
       "    .dataframe thead th {\n",
       "        text-align: right;\n",
       "    }\n",
       "</style>\n",
       "<table border=\"1\" class=\"dataframe\">\n",
       "  <thead>\n",
       "    <tr style=\"text-align: right;\">\n",
       "      <th></th>\n",
       "      <th>order_id</th>\n",
       "      <th>user_id</th>\n",
       "      <th>order_number</th>\n",
       "      <th>order_day_of_week</th>\n",
       "      <th>order_hour_of_day</th>\n",
       "      <th>days_since_prior_order</th>\n",
       "      <th>first_order</th>\n",
       "      <th>product_id</th>\n",
       "      <th>add_to_cart_order</th>\n",
       "      <th>reordered</th>\n",
       "      <th>...</th>\n",
       "      <th>median_frequency</th>\n",
       "      <th>frequency_flag</th>\n",
       "      <th>state</th>\n",
       "      <th>age</th>\n",
       "      <th>number_of_dependents</th>\n",
       "      <th>fam_status</th>\n",
       "      <th>income</th>\n",
       "      <th>_merge</th>\n",
       "      <th>region</th>\n",
       "      <th>low_activity</th>\n",
       "    </tr>\n",
       "  </thead>\n",
       "  <tbody>\n",
       "    <tr>\n",
       "      <th>0</th>\n",
       "      <td>2539329</td>\n",
       "      <td>1</td>\n",
       "      <td>1</td>\n",
       "      <td>2</td>\n",
       "      <td>8</td>\n",
       "      <td>NaN</td>\n",
       "      <td>True</td>\n",
       "      <td>196</td>\n",
       "      <td>1</td>\n",
       "      <td>0</td>\n",
       "      <td>...</td>\n",
       "      <td>20.5</td>\n",
       "      <td>Non-frequent customer</td>\n",
       "      <td>Alabama</td>\n",
       "      <td>31</td>\n",
       "      <td>3</td>\n",
       "      <td>married</td>\n",
       "      <td>40423</td>\n",
       "      <td>both</td>\n",
       "      <td>South</td>\n",
       "      <td>no</td>\n",
       "    </tr>\n",
       "    <tr>\n",
       "      <th>1</th>\n",
       "      <td>2398795</td>\n",
       "      <td>1</td>\n",
       "      <td>2</td>\n",
       "      <td>3</td>\n",
       "      <td>7</td>\n",
       "      <td>15.0</td>\n",
       "      <td>False</td>\n",
       "      <td>196</td>\n",
       "      <td>1</td>\n",
       "      <td>1</td>\n",
       "      <td>...</td>\n",
       "      <td>20.5</td>\n",
       "      <td>Non-frequent customer</td>\n",
       "      <td>Alabama</td>\n",
       "      <td>31</td>\n",
       "      <td>3</td>\n",
       "      <td>married</td>\n",
       "      <td>40423</td>\n",
       "      <td>both</td>\n",
       "      <td>South</td>\n",
       "      <td>no</td>\n",
       "    </tr>\n",
       "    <tr>\n",
       "      <th>2</th>\n",
       "      <td>473747</td>\n",
       "      <td>1</td>\n",
       "      <td>3</td>\n",
       "      <td>3</td>\n",
       "      <td>12</td>\n",
       "      <td>21.0</td>\n",
       "      <td>False</td>\n",
       "      <td>196</td>\n",
       "      <td>1</td>\n",
       "      <td>1</td>\n",
       "      <td>...</td>\n",
       "      <td>20.5</td>\n",
       "      <td>Non-frequent customer</td>\n",
       "      <td>Alabama</td>\n",
       "      <td>31</td>\n",
       "      <td>3</td>\n",
       "      <td>married</td>\n",
       "      <td>40423</td>\n",
       "      <td>both</td>\n",
       "      <td>South</td>\n",
       "      <td>no</td>\n",
       "    </tr>\n",
       "    <tr>\n",
       "      <th>3</th>\n",
       "      <td>2254736</td>\n",
       "      <td>1</td>\n",
       "      <td>4</td>\n",
       "      <td>4</td>\n",
       "      <td>7</td>\n",
       "      <td>29.0</td>\n",
       "      <td>False</td>\n",
       "      <td>196</td>\n",
       "      <td>1</td>\n",
       "      <td>1</td>\n",
       "      <td>...</td>\n",
       "      <td>20.5</td>\n",
       "      <td>Non-frequent customer</td>\n",
       "      <td>Alabama</td>\n",
       "      <td>31</td>\n",
       "      <td>3</td>\n",
       "      <td>married</td>\n",
       "      <td>40423</td>\n",
       "      <td>both</td>\n",
       "      <td>South</td>\n",
       "      <td>no</td>\n",
       "    </tr>\n",
       "    <tr>\n",
       "      <th>4</th>\n",
       "      <td>431534</td>\n",
       "      <td>1</td>\n",
       "      <td>5</td>\n",
       "      <td>4</td>\n",
       "      <td>15</td>\n",
       "      <td>28.0</td>\n",
       "      <td>False</td>\n",
       "      <td>196</td>\n",
       "      <td>1</td>\n",
       "      <td>1</td>\n",
       "      <td>...</td>\n",
       "      <td>20.5</td>\n",
       "      <td>Non-frequent customer</td>\n",
       "      <td>Alabama</td>\n",
       "      <td>31</td>\n",
       "      <td>3</td>\n",
       "      <td>married</td>\n",
       "      <td>40423</td>\n",
       "      <td>both</td>\n",
       "      <td>South</td>\n",
       "      <td>no</td>\n",
       "    </tr>\n",
       "  </tbody>\n",
       "</table>\n",
       "<p>5 rows × 32 columns</p>\n",
       "</div>"
      ],
      "text/plain": [
       "   order_id  user_id  order_number  order_day_of_week  order_hour_of_day  \\\n",
       "0   2539329        1             1                  2                  8   \n",
       "1   2398795        1             2                  3                  7   \n",
       "2    473747        1             3                  3                 12   \n",
       "3   2254736        1             4                  4                  7   \n",
       "4    431534        1             5                  4                 15   \n",
       "\n",
       "   days_since_prior_order  first_order  product_id  add_to_cart_order  \\\n",
       "0                     NaN         True         196                  1   \n",
       "1                    15.0        False         196                  1   \n",
       "2                    21.0        False         196                  1   \n",
       "3                    29.0        False         196                  1   \n",
       "4                    28.0        False         196                  1   \n",
       "\n",
       "   reordered  ... median_frequency         frequency_flag    state  age  \\\n",
       "0          0  ...             20.5  Non-frequent customer  Alabama   31   \n",
       "1          1  ...             20.5  Non-frequent customer  Alabama   31   \n",
       "2          1  ...             20.5  Non-frequent customer  Alabama   31   \n",
       "3          1  ...             20.5  Non-frequent customer  Alabama   31   \n",
       "4          1  ...             20.5  Non-frequent customer  Alabama   31   \n",
       "\n",
       "  number_of_dependents fam_status income _merge  region low_activity  \n",
       "0                    3    married  40423   both   South           no  \n",
       "1                    3    married  40423   both   South           no  \n",
       "2                    3    married  40423   both   South           no  \n",
       "3                    3    married  40423   both   South           no  \n",
       "4                    3    married  40423   both   South           no  \n",
       "\n",
       "[5 rows x 32 columns]"
      ]
     },
     "execution_count": 17,
     "metadata": {},
     "output_type": "execute_result"
    }
   ],
   "source": [
    "# Checking all_excluded dataframe\n",
    "all_excluded.head()"
   ]
  },
  {
   "cell_type": "code",
   "execution_count": 18,
   "id": "49752669-4657-4d61-9fd7-9e0bb39834f3",
   "metadata": {},
   "outputs": [
    {
     "data": {
      "text/plain": [
       "(30964564, 32)"
      ]
     },
     "execution_count": 18,
     "metadata": {},
     "output_type": "execute_result"
    }
   ],
   "source": [
    "all_excluded.shape"
   ]
  },
  {
   "cell_type": "code",
   "execution_count": 19,
   "id": "89974205-fc8d-481e-b0d8-2923adb77581",
   "metadata": {},
   "outputs": [],
   "source": [
    "# Exporting excluded dataframe\n",
    "all_excluded.to_pickle(os.path.join(path, '02 Data', 'Prepared Data', 'orders_products_all_excluded.pkl'))"
   ]
  },
  {
   "cell_type": "markdown",
   "id": "cb07d0c5-fe4e-4573-8ccb-dbfbd5342643",
   "metadata": {},
   "source": [
    "## 06. Task 5: Customer Profiling"
   ]
  },
  {
   "cell_type": "code",
   "execution_count": 5,
   "id": "be980cb2-83ba-478d-bafc-b0c2b7a3ffb3",
   "metadata": {},
   "outputs": [],
   "source": [
    "# Creating departments dataframe for chekcing departments\n",
    "dept = pd.read_csv(os.path.join(path, '02 Data', 'Prepared Data', 'departments_prepared.csv'), index_col = False)"
   ]
  },
  {
   "cell_type": "code",
   "execution_count": 6,
   "id": "5315cb2c-06f9-4eb9-8bad-ab79bb9d415a",
   "metadata": {},
   "outputs": [
    {
     "data": {
      "text/html": [
       "<div>\n",
       "<style scoped>\n",
       "    .dataframe tbody tr th:only-of-type {\n",
       "        vertical-align: middle;\n",
       "    }\n",
       "\n",
       "    .dataframe tbody tr th {\n",
       "        vertical-align: top;\n",
       "    }\n",
       "\n",
       "    .dataframe thead th {\n",
       "        text-align: right;\n",
       "    }\n",
       "</style>\n",
       "<table border=\"1\" class=\"dataframe\">\n",
       "  <thead>\n",
       "    <tr style=\"text-align: right;\">\n",
       "      <th></th>\n",
       "      <th>Unnamed: 0</th>\n",
       "      <th>department_id</th>\n",
       "      <th>department</th>\n",
       "    </tr>\n",
       "  </thead>\n",
       "  <tbody>\n",
       "    <tr>\n",
       "      <th>0</th>\n",
       "      <td>0</td>\n",
       "      <td>1</td>\n",
       "      <td>frozen</td>\n",
       "    </tr>\n",
       "    <tr>\n",
       "      <th>1</th>\n",
       "      <td>1</td>\n",
       "      <td>2</td>\n",
       "      <td>other</td>\n",
       "    </tr>\n",
       "    <tr>\n",
       "      <th>2</th>\n",
       "      <td>2</td>\n",
       "      <td>3</td>\n",
       "      <td>bakery</td>\n",
       "    </tr>\n",
       "    <tr>\n",
       "      <th>3</th>\n",
       "      <td>3</td>\n",
       "      <td>4</td>\n",
       "      <td>produce</td>\n",
       "    </tr>\n",
       "    <tr>\n",
       "      <th>4</th>\n",
       "      <td>4</td>\n",
       "      <td>5</td>\n",
       "      <td>alcohol</td>\n",
       "    </tr>\n",
       "    <tr>\n",
       "      <th>5</th>\n",
       "      <td>5</td>\n",
       "      <td>6</td>\n",
       "      <td>international</td>\n",
       "    </tr>\n",
       "    <tr>\n",
       "      <th>6</th>\n",
       "      <td>6</td>\n",
       "      <td>7</td>\n",
       "      <td>beverages</td>\n",
       "    </tr>\n",
       "    <tr>\n",
       "      <th>7</th>\n",
       "      <td>7</td>\n",
       "      <td>8</td>\n",
       "      <td>pets</td>\n",
       "    </tr>\n",
       "    <tr>\n",
       "      <th>8</th>\n",
       "      <td>8</td>\n",
       "      <td>9</td>\n",
       "      <td>dry goods pasta</td>\n",
       "    </tr>\n",
       "    <tr>\n",
       "      <th>9</th>\n",
       "      <td>9</td>\n",
       "      <td>10</td>\n",
       "      <td>bulk</td>\n",
       "    </tr>\n",
       "    <tr>\n",
       "      <th>10</th>\n",
       "      <td>10</td>\n",
       "      <td>11</td>\n",
       "      <td>personal care</td>\n",
       "    </tr>\n",
       "    <tr>\n",
       "      <th>11</th>\n",
       "      <td>11</td>\n",
       "      <td>12</td>\n",
       "      <td>meat seafood</td>\n",
       "    </tr>\n",
       "    <tr>\n",
       "      <th>12</th>\n",
       "      <td>12</td>\n",
       "      <td>13</td>\n",
       "      <td>pantry</td>\n",
       "    </tr>\n",
       "    <tr>\n",
       "      <th>13</th>\n",
       "      <td>13</td>\n",
       "      <td>14</td>\n",
       "      <td>breakfast</td>\n",
       "    </tr>\n",
       "    <tr>\n",
       "      <th>14</th>\n",
       "      <td>14</td>\n",
       "      <td>15</td>\n",
       "      <td>canned goods</td>\n",
       "    </tr>\n",
       "    <tr>\n",
       "      <th>15</th>\n",
       "      <td>15</td>\n",
       "      <td>16</td>\n",
       "      <td>dairy eggs</td>\n",
       "    </tr>\n",
       "    <tr>\n",
       "      <th>16</th>\n",
       "      <td>16</td>\n",
       "      <td>17</td>\n",
       "      <td>household</td>\n",
       "    </tr>\n",
       "    <tr>\n",
       "      <th>17</th>\n",
       "      <td>17</td>\n",
       "      <td>18</td>\n",
       "      <td>babies</td>\n",
       "    </tr>\n",
       "    <tr>\n",
       "      <th>18</th>\n",
       "      <td>18</td>\n",
       "      <td>19</td>\n",
       "      <td>snacks</td>\n",
       "    </tr>\n",
       "    <tr>\n",
       "      <th>19</th>\n",
       "      <td>19</td>\n",
       "      <td>20</td>\n",
       "      <td>deli</td>\n",
       "    </tr>\n",
       "    <tr>\n",
       "      <th>20</th>\n",
       "      <td>20</td>\n",
       "      <td>21</td>\n",
       "      <td>missing</td>\n",
       "    </tr>\n",
       "  </tbody>\n",
       "</table>\n",
       "</div>"
      ],
      "text/plain": [
       "    Unnamed: 0  department_id       department\n",
       "0            0              1           frozen\n",
       "1            1              2            other\n",
       "2            2              3           bakery\n",
       "3            3              4          produce\n",
       "4            4              5          alcohol\n",
       "5            5              6    international\n",
       "6            6              7        beverages\n",
       "7            7              8             pets\n",
       "8            8              9  dry goods pasta\n",
       "9            9             10             bulk\n",
       "10          10             11    personal care\n",
       "11          11             12     meat seafood\n",
       "12          12             13           pantry\n",
       "13          13             14        breakfast\n",
       "14          14             15     canned goods\n",
       "15          15             16       dairy eggs\n",
       "16          16             17        household\n",
       "17          17             18           babies\n",
       "18          18             19           snacks\n",
       "19          19             20             deli\n",
       "20          20             21          missing"
      ]
     },
     "execution_count": 6,
     "metadata": {},
     "output_type": "execute_result"
    }
   ],
   "source": [
    "dept"
   ]
  },
  {
   "cell_type": "code",
   "execution_count": null,
   "id": "61f7cf38-e049-46c9-8ab3-f3f11a2b0806",
   "metadata": {},
   "outputs": [],
   "source": [
    "Profiling customers by age"
   ]
  },
  {
   "cell_type": "code",
   "execution_count": 4,
   "id": "fa049777-dcf7-456f-b8d5-3b1ab82398b5",
   "metadata": {},
   "outputs": [
    {
     "data": {
      "text/plain": [
       "count    3.096456e+07\n",
       "mean     4.946803e+01\n",
       "std      1.848528e+01\n",
       "min      1.800000e+01\n",
       "25%      3.300000e+01\n",
       "50%      4.900000e+01\n",
       "75%      6.500000e+01\n",
       "max      8.100000e+01\n",
       "Name: age, dtype: float64"
      ]
     },
     "execution_count": 4,
     "metadata": {},
     "output_type": "execute_result"
    }
   ],
   "source": [
    "all_excluded['age'].describe()"
   ]
  },
  {
   "cell_type": "markdown",
   "id": "66c859e9-d533-4dfe-82ae-0bc9b286c6bc",
   "metadata": {},
   "source": [
    "The minimum age is 18 and the maximum age is 81. Creating 3 values for age_group flag (18-29 is young adult, 30-59 is middle age, and 60+ is senior"
   ]
  },
  {
   "cell_type": "code",
   "execution_count": 7,
   "id": "68f9f26b-8eff-4a2c-8c59-844723bb162a",
   "metadata": {},
   "outputs": [],
   "source": [
    "# Creating Young adult value for age_group column\n",
    "all_excluded.loc[all_excluded['age'] < 30, 'age_group'] = 'Young adult'"
   ]
  },
  {
   "cell_type": "code",
   "execution_count": 8,
   "id": "7beb87e6-1f53-4f0f-98cb-17ace2557855",
   "metadata": {},
   "outputs": [],
   "source": [
    "# Creating Midde age value for age_group column\n",
    "all_excluded.loc[(all_excluded['age'] >= 30) & (all_excluded['age'] < 60), 'age_group'] = 'Middle age'"
   ]
  },
  {
   "cell_type": "code",
   "execution_count": 9,
   "id": "897b17e4-38a5-4944-8642-5eee73c33904",
   "metadata": {},
   "outputs": [],
   "source": [
    "# Creating Senior value for age_group column\n",
    "all_excluded.loc[all_excluded['age'] >= 60, 'age_group'] = 'Senior'"
   ]
  },
  {
   "cell_type": "code",
   "execution_count": 10,
   "id": "7a59b5bf-64fa-41b4-9921-98eb62cf71b8",
   "metadata": {},
   "outputs": [
    {
     "data": {
      "text/plain": [
       "age_group\n",
       "Middle age     14572457\n",
       "Senior         10574504\n",
       "Young adult     5817603\n",
       "Name: count, dtype: int64"
      ]
     },
     "execution_count": 10,
     "metadata": {},
     "output_type": "execute_result"
    }
   ],
   "source": [
    "# Checking values of age_group\n",
    "all_excluded['age_group'].value_counts(dropna = False)"
   ]
  },
  {
   "cell_type": "markdown",
   "id": "7479711e-55f7-478c-a726-bb904309fb18",
   "metadata": {},
   "source": [
    "Profiling customers by income"
   ]
  },
  {
   "cell_type": "code",
   "execution_count": 9,
   "id": "f0046bc4-12ad-443e-a872-d32257fbdcc4",
   "metadata": {},
   "outputs": [
    {
     "data": {
      "text/plain": [
       "count    3.096456e+07\n",
       "mean     9.967587e+04\n",
       "std      4.314187e+04\n",
       "min      2.590300e+04\n",
       "25%      6.729200e+04\n",
       "50%      9.676500e+04\n",
       "75%      1.281020e+05\n",
       "max      5.939010e+05\n",
       "Name: income, dtype: float64"
      ]
     },
     "execution_count": 9,
     "metadata": {},
     "output_type": "execute_result"
    }
   ],
   "source": [
    "all_excluded['income'].describe()"
   ]
  },
  {
   "cell_type": "markdown",
   "id": "7bca974d-5db4-40ff-8066-30c19aad81b7",
   "metadata": {},
   "source": [
    "Creating 3 different income_group values for income_group flag ( < 75,000 is 'low income', 75,000-119,999 is 'mid income', and > 120,000 is high income"
   ]
  },
  {
   "cell_type": "code",
   "execution_count": 12,
   "id": "61ed1c33-6090-4805-a82b-e048956648c6",
   "metadata": {},
   "outputs": [],
   "source": [
    "# Creating low income value for income_group column\n",
    "all_excluded.loc[all_excluded['income'] < 75000, 'income_group'] = 'low income'"
   ]
  },
  {
   "cell_type": "code",
   "execution_count": 13,
   "id": "0fefb05e-1919-44ac-a084-dfb6f42ded54",
   "metadata": {},
   "outputs": [],
   "source": [
    "# Creating mid income value for income_group column\n",
    "all_excluded.loc[(all_excluded['income'] >= 75000) & (all_excluded['income'] < 120000), 'income_group'] = 'mid income'"
   ]
  },
  {
   "cell_type": "code",
   "execution_count": 14,
   "id": "bfefcc92-3975-457a-bf73-2c40905ed5b7",
   "metadata": {},
   "outputs": [],
   "source": [
    "# Creating high income value for income_group column\n",
    "all_excluded.loc[all_excluded['income'] >= 120000, 'income_group'] = 'high income'"
   ]
  },
  {
   "cell_type": "code",
   "execution_count": 15,
   "id": "967f97cb-42b9-4078-9249-fe7ee5f56f87",
   "metadata": {
    "scrolled": true
   },
   "outputs": [
    {
     "data": {
      "text/plain": [
       "income_group\n",
       "mid income     11878101\n",
       "low income      9906680\n",
       "high income     9179783\n",
       "Name: count, dtype: int64"
      ]
     },
     "execution_count": 15,
     "metadata": {},
     "output_type": "execute_result"
    }
   ],
   "source": [
    "# Checking values of income_group\n",
    "all_excluded['income_group'].value_counts(dropna=False)"
   ]
  },
  {
   "cell_type": "code",
   "execution_count": 95,
   "id": "bdafc019-e6f6-4820-83cf-3241bfa9d6f4",
   "metadata": {},
   "outputs": [],
   "source": [
    "# Profiling customers by combination of age, family status, and number of children\n",
    "# Creating Single young adult w/o kids\n",
    "all_excluded.loc[(all_excluded['age_group'] == 'Young adult') & (all_excluded['fam_status'] != 'married') & (all_excluded['number_of_dependents'] == 0), 'profile_age'] = 'Single young adult w/o kids'"
   ]
  },
  {
   "cell_type": "code",
   "execution_count": 96,
   "id": "88da5ae5-93ba-4dd8-b324-3b2e9ab61167",
   "metadata": {},
   "outputs": [],
   "source": [
    "# Creating single young adult w/ kids\n",
    "all_excluded.loc[(all_excluded['age_group'] == 'Young adult') & (all_excluded['fam_status'] != 'married') & (all_excluded['number_of_dependents'] > 0), 'profile_age'] = 'Single young adult w/ kids'"
   ]
  },
  {
   "cell_type": "code",
   "execution_count": 97,
   "id": "4e7bf4e0-ccf3-415c-9e3b-9e27296f5be3",
   "metadata": {},
   "outputs": [],
   "source": [
    "# Creating married young adult w/o kids\n",
    "all_excluded.loc[(all_excluded['age_group'] == 'Young adult') & (all_excluded['fam_status'] == 'married') & (all_excluded['number_of_dependents'] == 0), 'profile_age'] = 'Married young adult w/o kids'"
   ]
  },
  {
   "cell_type": "code",
   "execution_count": 98,
   "id": "fd9cad8b-9bc4-48d0-8600-9a6dd4fcb2a0",
   "metadata": {},
   "outputs": [],
   "source": [
    "# Creating married young adult w/ kids\n",
    "all_excluded.loc[(all_excluded['age_group'] == 'Young adult') & (all_excluded['fam_status'] == 'married') & (all_excluded['number_of_dependents'] > 0), 'profile_age'] = 'Married young adult w/ kids'"
   ]
  },
  {
   "cell_type": "code",
   "execution_count": 99,
   "id": "1c3a4f53-7689-47ab-a102-11db6856f682",
   "metadata": {},
   "outputs": [],
   "source": [
    "# Creating Single mid age w/o kids\n",
    "all_excluded.loc[(all_excluded['age_group'] == 'Middle age') & (all_excluded['fam_status'] != 'married') & (all_excluded['number_of_dependents'] == 0), 'profile_age'] = 'Single middle age w/o kids'"
   ]
  },
  {
   "cell_type": "code",
   "execution_count": 100,
   "id": "1ff9e229-e01f-44a2-9418-88420c0d8b62",
   "metadata": {},
   "outputs": [],
   "source": [
    "# Creating Single mid age w/ kids\n",
    "all_excluded.loc[(all_excluded['age_group'] == 'Middle age') & (all_excluded['fam_status'] != 'married') & (all_excluded['number_of_dependents'] > 0), 'profile_age'] = 'Single middle age w/ kids'"
   ]
  },
  {
   "cell_type": "code",
   "execution_count": 101,
   "id": "6f384587-c99a-4a77-90af-8acb41446e28",
   "metadata": {},
   "outputs": [],
   "source": [
    "# Creating married middle age w/o kids\n",
    "all_excluded.loc[(all_excluded['age_group'] == 'Middle age') & (all_excluded['fam_status'] == 'married') & (all_excluded['number_of_dependents'] == 0), 'profile_age'] = 'Married middle age w/o kids'"
   ]
  },
  {
   "cell_type": "code",
   "execution_count": 102,
   "id": "f8c13da8-5133-4338-a971-ce4335cd0807",
   "metadata": {},
   "outputs": [],
   "source": [
    "# Creating married midde age w/kids\n",
    "all_excluded.loc[(all_excluded['age_group'] == 'Middle age') & (all_excluded['fam_status'] == 'married') & (all_excluded['number_of_dependents'] > 0), 'profile_age'] = 'Married middle age w/ kids'"
   ]
  },
  {
   "cell_type": "code",
   "execution_count": 103,
   "id": "c0d84ccf-3355-414e-862d-9b6f37e211c8",
   "metadata": {},
   "outputs": [],
   "source": [
    "# Creating single senior w/o kids\n",
    "all_excluded.loc[(all_excluded['age_group'] == 'Senior') & (all_excluded['fam_status'] != 'married') & (all_excluded['number_of_dependents'] == 0), 'profile_age'] = 'Single senior w/o kids'"
   ]
  },
  {
   "cell_type": "code",
   "execution_count": 104,
   "id": "b23bf8a1-e6ef-4d49-a110-2c37fdee30aa",
   "metadata": {},
   "outputs": [],
   "source": [
    "# Creating single senior w/ kids\n",
    "all_excluded.loc[(all_excluded['age_group'] == 'Senior') & (all_excluded['fam_status'] != 'married') & (all_excluded['number_of_dependents'] > 0), 'profile_age'] = 'Single senior w/ kids'"
   ]
  },
  {
   "cell_type": "code",
   "execution_count": 105,
   "id": "9216bf9a-22e7-4a1c-9188-dba39b732430",
   "metadata": {},
   "outputs": [],
   "source": [
    "# Creating married senior w/o kids\n",
    "all_excluded.loc[(all_excluded['age_group'] == 'Senior') & (all_excluded['fam_status'] == 'married') & (all_excluded['number_of_dependents'] == 0), 'profile_age'] = 'Married senior w/o kids'"
   ]
  },
  {
   "cell_type": "code",
   "execution_count": 106,
   "id": "dbda79b1-fa5f-4317-ade5-3444d887e4b8",
   "metadata": {},
   "outputs": [],
   "source": [
    "# Creating married senior w/ kids\n",
    "all_excluded.loc[(all_excluded['age_group'] == 'Senior') & (all_excluded['fam_status'] == 'married') & (all_excluded['number_of_dependents'] > 0), 'profile_age'] = 'Married senior w/ kids'"
   ]
  },
  {
   "cell_type": "code",
   "execution_count": 107,
   "id": "364f6765-fa7a-4949-ab51-4ec24d76daa9",
   "metadata": {},
   "outputs": [
    {
     "data": {
      "text/plain": [
       "profile_age\n",
       "Married middle age w/ kids     10925665\n",
       "Married senior w/ kids          7929233\n",
       "Single middle age w/o kids      3646792\n",
       "Married young adult w/ kids     2888813\n",
       "Single senior w/o kids          2645271\n",
       "Single young adult w/ kids      1481172\n",
       "Single young adult w/o kids     1447618\n",
       "Name: count, dtype: int64"
      ]
     },
     "execution_count": 107,
     "metadata": {},
     "output_type": "execute_result"
    }
   ],
   "source": [
    "# Checking values of profile_age\n",
    "all_excluded['profile_age'].value_counts(dropna=False)"
   ]
  },
  {
   "cell_type": "code",
   "execution_count": 110,
   "id": "6c45fe44-2b4c-4d77-adcf-286bf7d55d37",
   "metadata": {},
   "outputs": [],
   "source": [
    "# Profiling customers by combination of income, family status, and number of children\n",
    "# Creating single w/o kids low income\n",
    "all_excluded.loc[(all_excluded['fam_status'] != 'married') & (all_excluded['number_of_dependents'] == 0) & (all_excluded['income_group'] == 'low income'), 'profile_income'] = 'Single w/o kids low income'"
   ]
  },
  {
   "cell_type": "code",
   "execution_count": 111,
   "id": "369680eb-b4b8-4a31-95b1-5b2c7d1bb0d1",
   "metadata": {},
   "outputs": [],
   "source": [
    "# Creating single w/ kids low income\n",
    "all_excluded.loc[(all_excluded['fam_status'] != 'married') & (all_excluded['number_of_dependents'] > 0) & (all_excluded['income_group'] == 'low income'), 'profile_income'] = 'Single w/ kids low income'"
   ]
  },
  {
   "cell_type": "code",
   "execution_count": 112,
   "id": "a7111f06-e127-4194-b222-f1d601fef92b",
   "metadata": {},
   "outputs": [],
   "source": [
    "# Creating married w/o kids low income\n",
    "all_excluded.loc[(all_excluded['fam_status'] == 'married') & (all_excluded['number_of_dependents'] == 0) & (all_excluded['income_group'] == 'low income'), 'profile_income'] = 'Married w/o kids low income'"
   ]
  },
  {
   "cell_type": "code",
   "execution_count": 113,
   "id": "fc7e329d-0371-4733-964e-83ed4735ee38",
   "metadata": {},
   "outputs": [],
   "source": [
    "# Creating married w/ kids low income\n",
    "all_excluded.loc[(all_excluded['fam_status'] == 'married') & (all_excluded['number_of_dependents'] > 0) & (all_excluded['income_group'] == 'low income'), 'profile_income'] = 'Married w/ kids low income'"
   ]
  },
  {
   "cell_type": "code",
   "execution_count": 115,
   "id": "c5c830d2-3e9e-49f8-8bb5-50874581c5fe",
   "metadata": {},
   "outputs": [],
   "source": [
    "# Creating single w/o kids mid income\n",
    "all_excluded.loc[(all_excluded['fam_status'] != 'married') & (all_excluded['number_of_dependents'] == 0) & (all_excluded['income_group'] == 'mid income'), 'profile_income'] = 'Single w/o kids mid income'"
   ]
  },
  {
   "cell_type": "code",
   "execution_count": 116,
   "id": "2f7f93c0-d536-4767-93d6-4eb13d20a540",
   "metadata": {},
   "outputs": [],
   "source": [
    "# Creating single w/ kids mid income\n",
    "all_excluded.loc[(all_excluded['fam_status'] != 'married') & (all_excluded['number_of_dependents'] > 0) & (all_excluded['income_group'] == 'mid income'), 'profile_income'] = 'Single w/ kids mid income'"
   ]
  },
  {
   "cell_type": "code",
   "execution_count": 117,
   "id": "00fab1f7-eef0-4f1c-9ee4-17cbd4e746a3",
   "metadata": {},
   "outputs": [],
   "source": [
    "# Creating married w/o kids mid income\n",
    "all_excluded.loc[(all_excluded['fam_status'] == 'married') & (all_excluded['number_of_dependents'] == 0) & (all_excluded['income_group'] == 'mid income'), 'profile_income'] = 'Married w/o kids mid income'"
   ]
  },
  {
   "cell_type": "code",
   "execution_count": 118,
   "id": "03ffcf6f-25cf-451f-b419-1d95c6d7143d",
   "metadata": {},
   "outputs": [],
   "source": [
    "# Creating married w/ kids mid income\n",
    "all_excluded.loc[(all_excluded['fam_status'] == 'married') & (all_excluded['number_of_dependents'] > 0) & (all_excluded['income_group'] == 'mid income'), 'profile_income'] = 'Married w/ kids mid income'"
   ]
  },
  {
   "cell_type": "code",
   "execution_count": 119,
   "id": "e397a79f-8bd2-4628-8344-54bf9b4232bd",
   "metadata": {},
   "outputs": [],
   "source": [
    "# Creating single w/o kids high income\n",
    "all_excluded.loc[(all_excluded['fam_status'] != 'married') & (all_excluded['number_of_dependents'] == 0) & (all_excluded['income_group'] == 'high income'), 'profile_income'] = 'Single w/o kids high income'"
   ]
  },
  {
   "cell_type": "code",
   "execution_count": 120,
   "id": "7880fc89-2631-45f7-94cf-75e442839e1a",
   "metadata": {},
   "outputs": [],
   "source": [
    "# Creating single w/ kids high income\n",
    "all_excluded.loc[(all_excluded['fam_status'] != 'married') & (all_excluded['number_of_dependents'] > 0) & (all_excluded['income_group'] == 'high income'), 'profile_income'] = 'Single w/ kids high income'"
   ]
  },
  {
   "cell_type": "code",
   "execution_count": 121,
   "id": "68ca0fb5-3b92-43fa-aa26-aab2c46ff196",
   "metadata": {},
   "outputs": [],
   "source": [
    "# Creating married w/o kids high income\n",
    "all_excluded.loc[(all_excluded['fam_status'] == 'married') & (all_excluded['number_of_dependents'] == 0) & (all_excluded['income_group'] == 'high income'), 'profile_income'] = 'Married w/o kids high income'"
   ]
  },
  {
   "cell_type": "code",
   "execution_count": 122,
   "id": "e6082590-27cb-4a7b-a404-348d31c49771",
   "metadata": {},
   "outputs": [],
   "source": [
    "# Creating married w/ kids high income\n",
    "all_excluded.loc[(all_excluded['fam_status'] == 'married') & (all_excluded['number_of_dependents'] > 0) & (all_excluded['income_group'] == 'high income'), 'profile_income'] = 'Married w/ kids high income'"
   ]
  },
  {
   "cell_type": "code",
   "execution_count": 123,
   "id": "7a0b520c-afb1-4d02-bfea-b2b69e477f5f",
   "metadata": {},
   "outputs": [
    {
     "data": {
      "text/plain": [
       "profile_income\n",
       "Married w/ kids mid income     8366651\n",
       "Married w/ kids high income    6840076\n",
       "Married w/ kids low income     6536984\n",
       "Single w/o kids mid income     2943567\n",
       "Single w/o kids low income     2474608\n",
       "Single w/o kids high income    2321506\n",
       "Single w/ kids low income       895088\n",
       "Single w/ kids mid income       567883\n",
       "Single w/ kids high income       18201\n",
       "Name: count, dtype: int64"
      ]
     },
     "execution_count": 123,
     "metadata": {},
     "output_type": "execute_result"
    }
   ],
   "source": [
    "# Checking values of profile_income\n",
    "all_excluded['profile_income'].value_counts(dropna=False)"
   ]
  },
  {
   "cell_type": "code",
   "execution_count": 124,
   "id": "42d14286-a9a1-4482-a3d3-45c31450ed5a",
   "metadata": {},
   "outputs": [],
   "source": [
    "# Exporting dataframe\n",
    "all_excluded.to_pickle(os.path.join(path, '02 Data', 'Prepared Data', 'customer_profiles.pkl'))"
   ]
  }
 ],
 "metadata": {
  "kernelspec": {
   "display_name": "Python 3 (ipykernel)",
   "language": "python",
   "name": "python3"
  },
  "language_info": {
   "codemirror_mode": {
    "name": "ipython",
    "version": 3
   },
   "file_extension": ".py",
   "mimetype": "text/x-python",
   "name": "python",
   "nbconvert_exporter": "python",
   "pygments_lexer": "ipython3",
   "version": "3.11.7"
  }
 },
 "nbformat": 4,
 "nbformat_minor": 5
}

{
 "cells": [
  {
   "cell_type": "markdown",
   "id": "4b481b4c",
   "metadata": {},
   "source": [
    "# 4.2 Importing Libraries and Python Data Types"
   ]
  },
  {
   "cell_type": "markdown",
   "id": "229d0d2c",
   "metadata": {},
   "source": [
    "## This script contains the following points:\n",
    "\n",
    "### 01. Importing Libraries\n",
    "### 02. Python Data Types"
   ]
  },
  {
   "cell_type": "markdown",
   "id": "5d867bb4-d540-42af-b809-d697c6277d1f",
   "metadata": {},
   "source": [
    "### 01. Importing Libraries"
   ]
  },
  {
   "cell_type": "code",
   "execution_count": null,
   "id": "6c220859-a06e-402e-976b-8781ced4d4c3",
   "metadata": {},
   "outputs": [],
   "source": [
    "# import libraries\n",
    "import pandas as pd\n",
    "import numpy as np\n",
    "import os"
   ]
  },
  {
   "cell_type": "markdown",
   "id": "60d54e6c-a84b-49e8-960c-fecaf1e85aab",
   "metadata": {},
   "source": [
    "### 02. Python Data Types"
   ]
  },
  {
   "cell_type": "code",
   "execution_count": 2,
   "id": "00ee49f8-ef16-4572-8484-7192914b8068",
   "metadata": {},
   "outputs": [],
   "source": [
    "# Code 3 ways of reaching 100 by adding or subtracting numerical values\n",
    "x = 25\n",
    "y = 75\n",
    "z = 125"
   ]
  },
  {
   "cell_type": "code",
   "execution_count": 3,
   "id": "8c24a04c-8b89-4c13-95b2-bc15f8d23a61",
   "metadata": {},
   "outputs": [
    {
     "data": {
      "text/plain": [
       "100"
      ]
     },
     "execution_count": 3,
     "metadata": {},
     "output_type": "execute_result"
    }
   ],
   "source": [
    "x + y"
   ]
  },
  {
   "cell_type": "code",
   "execution_count": 4,
   "id": "ca8a91e6-dfdb-4680-91d5-6100519a2edc",
   "metadata": {},
   "outputs": [
    {
     "data": {
      "text/plain": [
       "100"
      ]
     },
     "execution_count": 4,
     "metadata": {},
     "output_type": "execute_result"
    }
   ],
   "source": [
    "z - x"
   ]
  },
  {
   "cell_type": "code",
   "execution_count": 5,
   "id": "4a19636c-cc1a-4690-a3a7-ab6fa49475ef",
   "metadata": {},
   "outputs": [
    {
     "data": {
      "text/plain": [
       "100"
      ]
     },
     "execution_count": 5,
     "metadata": {},
     "output_type": "execute_result"
    }
   ],
   "source": [
    "z - y + x + x"
   ]
  },
  {
   "cell_type": "code",
   "execution_count": 6,
   "id": "2bc49a3a-5704-443b-ad1b-dc7f51a97773",
   "metadata": {},
   "outputs": [],
   "source": [
    "# Coding floating point variables and dividing them\n",
    "x = 4.875\n",
    "y = 12.225"
   ]
  },
  {
   "cell_type": "code",
   "execution_count": 7,
   "id": "6f13b5ad-19d8-4f2b-b8db-91b482baf2e8",
   "metadata": {},
   "outputs": [
    {
     "data": {
      "text/plain": [
       "2.5076923076923077"
      ]
     },
     "execution_count": 7,
     "metadata": {},
     "output_type": "execute_result"
    }
   ],
   "source": [
    "y / x"
   ]
  },
  {
   "cell_type": "code",
   "execution_count": 10,
   "id": "14443a5b-169b-4630-9059-d321a5f94099",
   "metadata": {},
   "outputs": [],
   "source": [
    "# Construct a short word made of separate strings\n",
    "x = 'door'\n",
    "y = 'bell'"
   ]
  },
  {
   "cell_type": "code",
   "execution_count": 11,
   "id": "6e63bc3f-efbd-41a9-9a9f-a23748a81926",
   "metadata": {},
   "outputs": [
    {
     "data": {
      "text/plain": [
       "'doorbell'"
      ]
     },
     "execution_count": 11,
     "metadata": {},
     "output_type": "execute_result"
    }
   ],
   "source": [
    "x+y"
   ]
  },
  {
   "cell_type": "code",
   "execution_count": 12,
   "id": "6d01ed82-4005-445e-a978-6785229e702a",
   "metadata": {},
   "outputs": [],
   "source": [
    "# Construct 2 short sentences made of separate strings\n",
    "x = 'Why was 6 afraid of 7? '\n",
    "y = 'Because 7 ate 9!'"
   ]
  },
  {
   "cell_type": "code",
   "execution_count": 14,
   "id": "2031a26e-c7e8-4aa5-be3c-dab866fb8e86",
   "metadata": {},
   "outputs": [
    {
     "data": {
      "text/plain": [
       "'Why was 6 afraid of 7? Because 7 ate 9!'"
      ]
     },
     "execution_count": 14,
     "metadata": {},
     "output_type": "execute_result"
    }
   ],
   "source": [
    "x + y"
   ]
  },
  {
   "cell_type": "code",
   "execution_count": 15,
   "id": "1ad5259c-ed7f-405e-8c33-e2702f81df04",
   "metadata": {},
   "outputs": [
    {
     "data": {
      "text/plain": [
       "'camelcamelcamelcamelcamelcamelcamelcamelcamelcamelcamelcamelcamelcamelcamelcamelcamelcamelcamelcamelcamelcamelcamelcamelcamelcamelcamelcamelcamelcamelcamelcamelcamelcamelcamelcamelcamelcamelcamelcamelcamelcamelcamelcamelcamelcamelcamelcamelcamelcamelcamelcamelcamelcamelcamelcamelcamelcamelcamelcamelcamelcamelcamelcamelcamelcamelcamelcamelcamelcamelcamelcamelcamelcamelcamelcamelcamelcamelcamelcamelcamelcamelcamelcamelcamelcamelcamelcamelcamelcamelcamelcamelcamelcamelcamelcamelcamelcamelcamelcamel'"
      ]
     },
     "execution_count": 15,
     "metadata": {},
     "output_type": "execute_result"
    }
   ],
   "source": [
    "# A command that makes a string appear 100 times\n",
    "x = 'camel'\n",
    "x*100"
   ]
  },
  {
   "cell_type": "code",
   "execution_count": null,
   "id": "50a0c17e-e37b-40e4-8c19-7850fb1c1270",
   "metadata": {},
   "outputs": [],
   "source": []
  }
 ],
 "metadata": {
  "kernelspec": {
   "display_name": "Python 3 (ipykernel)",
   "language": "python",
   "name": "python3"
  },
  "language_info": {
   "codemirror_mode": {
    "name": "ipython",
    "version": 3
   },
   "file_extension": ".py",
   "mimetype": "text/x-python",
   "name": "python",
   "nbconvert_exporter": "python",
   "pygments_lexer": "ipython3",
   "version": "3.11.7"
  }
 },
 "nbformat": 4,
 "nbformat_minor": 5
}
